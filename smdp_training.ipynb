{
 "cells": [
  {
   "cell_type": "code",
   "execution_count": 1,
   "id": "36883db1-74bf-499f-b7fd-acf3507af99a",
   "metadata": {},
   "outputs": [],
   "source": [
    "import gymnasium as gym\n",
    "from gymnasium.wrappers import RecordVideo\n",
    "import matplotlib.pyplot as plt\n",
    "import numpy as np\n",
    "import torch\n",
    "import pickle\n",
    "\n",
    "from scripts.smdp_agent import SMDPQLearningAgent\n",
    "from scripts.taxi_utils import TaxiUtils as tu\n",
    "from scripts.taxi_visualizer import TaxiVisualizer as tv\n",
    "from scripts.options import Option\n",
    "from scripts.policies import MoveTaxiPolicy, EpsilonGreedyPolicy, OptimalPolicy, PickUpPassenger, DropOffPassenger\n",
    "from scripts.training import Trainer, trainingInspector, test_agent, plot_test_results, compute_decay"
   ]
  },
  {
   "cell_type": "markdown",
   "id": "293c22d9-b44a-46ea-8043-a3159e23c4f1",
   "metadata": {},
   "source": [
    "## Hyperparameters"
   ]
  },
  {
   "cell_type": "code",
   "execution_count": 2,
   "id": "a1117de6-1bb6-4056-a286-45426cf61eb4",
   "metadata": {},
   "outputs": [],
   "source": [
    "def episode_trigger(x):\n",
    "    if x % 1000 == 0:\n",
    "        return True\n",
    "    return False\n",
    "\n",
    "def process_hyperparameters(hyperparameters):\n",
    "    hyperparameters.update({\n",
    "        \"eps_decay\": compute_decay(\n",
    "            hyperparameters[\"eps_start\"],\n",
    "            hyperparameters[\"eps_end\"],\n",
    "            hyperparameters[\"frac_episodes_to_decay\"],\n",
    "            hyperparameters[\"num_episodes\"],\n",
    "            hyperparameters[\"decay_type\"]\n",
    "        )\n",
    "    })\n",
    "\n",
    "    hyperparameters.pop(\"frac_episodes_to_decay\", None)\n",
    "    return hyperparameters\n",
    "    "
   ]
  },
  {
   "cell_type": "code",
   "execution_count": 3,
   "id": "99c46212-1416-4935-a24d-8e9877064173",
   "metadata": {},
   "outputs": [],
   "source": [
    "# Top 3 hyperparameter configurations\n",
    "smdp_hyperparameter_list = [\n",
    "\n",
    "    process_hyperparameters(_) for _ in  [\n",
    "    # Best performing hyperparameters\n",
    "    {\n",
    "        \"num_episodes\": 10000,\n",
    "        \"max_return\": 8,\n",
    "        \"LR\": 1e-1,\n",
    "        \"eps_start\": 1,\n",
    "        \"eps_end\": 0.005,\n",
    "        \"decay_type\": \"exponential\",\n",
    "        \"frac_episodes_to_decay\": 0.7\n",
    "    }\n",
    "\n",
    "]]"
   ]
  },
  {
   "cell_type": "markdown",
   "id": "ecf341a7-d0ed-4f47-8307-641a2050d4ce",
   "metadata": {},
   "source": [
    "## Running Experiments"
   ]
  },
  {
   "cell_type": "code",
   "execution_count": 4,
   "id": "e0b93420-f044-43d1-89fc-e08d15c3c45b",
   "metadata": {},
   "outputs": [],
   "source": [
    "def get_termination(option_destination_location):\n",
    "    # ((taxi_row * 5 + taxi_col) * 5 + passenger_location) * 4 + destination\n",
    "    termination = [0 for i in range(500)]\n",
    "    \n",
    "    base = 100*option_destination_location[0] + 20*option_destination_location[1]\n",
    "    option_destination = tu.LOC_TO_COLOR[option_destination_location]\n",
    "\n",
    "    # \"Possible\" locations for termination\n",
    "    for destination in range(4):\n",
    "        for passenger_location in range(5):\n",
    "            termination[base + passenger_location*4 + destination] = 1\n",
    "\n",
    "    # Excluding a few states from termination set\n",
    "    # Enabling passenger Pickup\n",
    "    for destination in range(4):\n",
    "        termination[base + option_destination*4 + destination] = 0\n",
    "\n",
    "    # Enabling passenger Dropoff\n",
    "    termination[base + tu.IN_TAXI*4 + option_destination] = 0\n",
    "    \n",
    "    return termination\n",
    "\n",
    "def get_initiation(option_destination_location):\n",
    "    initiation_set = [True for i in range(500)]\n",
    "\n",
    "    # Disable initiation in cases where taxi is already at the option's destination \n",
    "    taxi_row, taxi_col = option_destination_location\n",
    "    for passenger_location in range(5):\n",
    "        for destination in range(4):\n",
    "            initiation_set[taxi_row*100 + taxi_col*20 + passenger_location*4 + destination] = False\n",
    "\n",
    "    return initiation_set\n",
    "                    \n",
    "\n",
    "color_map = {tu.RED:\"Red\", tu.GREEN:\"Green\", tu.YELLOW:\"Yellow\", tu.BLUE:\"Blue\"}\n",
    "options = [\n",
    "    Option(index = i, \n",
    "           initiation_set = get_initiation(tu.COLOR_TO_LOC[color]), \n",
    "           policy = MoveTaxiPolicy(tu.COLOR_TO_LOC[color]), \n",
    "           termination = get_termination(tu.COLOR_TO_LOC[color]), \n",
    "           seed=0,\n",
    "           label = f\"Go To {color_map[color]}\"\n",
    "    )\n",
    "    for i, color in enumerate([tu.BLUE, tu.YELLOW, tu.GREEN, tu.RED])\n",
    "]"
   ]
  },
  {
   "cell_type": "code",
   "execution_count": null,
   "id": "85cb263e-f010-47c9-abc9-114a4516a3c7",
   "metadata": {},
   "outputs": [
    {
     "name": "stderr",
     "output_type": "stream",
     "text": [
      "/home/lalit/my_venvs/rl_env/lib/python3.10/site-packages/gymnasium/wrappers/rendering.py:283: UserWarning: \u001b[33mWARN: Overwriting existing videos at /home/lalit/acads/DA6400/Assignment3/DA6400_RL_PA3/backups/taxi-smdp-visualizations folder (try specifying a different `video_folder` for the `RecordVideo` wrapper if this is not desired)\u001b[0m\n",
      "  logger.warn(\n"
     ]
    },
    {
     "name": "stdout",
     "output_type": "stream",
     "text": [
      "LR 0.1\n",
      "eps_start 1\n",
      "eps_end 0.005\n",
      "decay_type exponential\n",
      "eps_decay 0.9997477309981986\n"
     ]
    },
    {
     "name": "stderr",
     "output_type": "stream",
     "text": [
      "Training:  29%|██████████████████████████████████▎                                                                                   | 8719/30000 [00:12<00:24, 868.61it/s, Mean Score=5.23]"
     ]
    }
   ],
   "source": [
    "env = gym.make('Taxi-v3', render_mode=\"rgb_array\")\n",
    "env = RecordVideo(\n",
    "    env,\n",
    "    video_folder=\"backups/taxi-smdp-visualizations\",\n",
    "    name_prefix=\"eval\",\n",
    "    episode_trigger=episode_trigger\n",
    ")\n",
    "\n",
    "smdp_agent = SMDPQLearningAgent(\n",
    "    state_space=env.observation_space,\n",
    "    action_space=env.action_space,\n",
    "    options=options,\n",
    "    seed=0\n",
    ")\n",
    "\n",
    "trainer = Trainer()\n",
    "smdp_results = test_agent(env, smdp_agent, trainer, smdp_hyperparameter_list, num_experiments=1)\n",
    "env.close()\n",
    "\n",
    "# with open(\"backups/acrobot-plots/acrobot_ddqn_type1_results.pickle\", 'wb') as handle:\n",
    "#     pickle.dump(ddqn_type1_results, handle, protocol=pickle.HIGHEST_PROTOCOL)"
   ]
  },
  {
   "cell_type": "code",
   "execution_count": null,
   "id": "1ee535cd-7c14-4bb5-a4ae-497e5187ee55",
   "metadata": {},
   "outputs": [],
   "source": [
    "plot_test_results(smdp_results, [0])"
   ]
  },
  {
   "cell_type": "code",
   "execution_count": null,
   "id": "577d4f73-6e7c-473f-971a-62fe62fb5f41",
   "metadata": {},
   "outputs": [],
   "source": [
    "def vis(state, Qtable, option_labels=None):\n",
    "\n",
    "    taxi_row, taxi_col, passenger_location, destination = tu.decode_env_state(state)\n",
    "    \n",
    "    fig, ax = plt.subplots(figsize=(5, 5))\n",
    "\n",
    "    tv.visualize_adjacency()\n",
    "    tv.visualize_locations()\n",
    "\n",
    "    option_values = Qtable[:,:,passenger_location, destination,:]\n",
    "    options = np.argmax(option_values, axis=-1)\n",
    "\n",
    "    tv.visualize_options(options, option_labels)\n",
    "    \n",
    "    # tv.visualize_options_bubble_plot(option_values, option_labels, norm_axis=None)\n",
    "    \n",
    "    # tv.visualize_heatmap(qvals)\n",
    "    # tv.visualize_taxi_passenger_destination(state)\n",
    "\n",
    "\n",
    "    fig.legend(loc=\"lower center\", bbox_to_anchor=(0.5, -0.08), ncol=4, fontsize=10)\n",
    "\n",
    "    ax.set_xlim(0, 5)\n",
    "    ax.set_ylim(0, 5)\n",
    "    ax.set_aspect(\"equal\")\n",
    "    ax.axis(\"off\")\n",
    "    plt.gca().invert_yaxis()\n",
    "\n",
    "    plt.tight_layout()\n",
    "    plt.show()\n",
    "    \n",
    "\n",
    "option_labels = {}\n",
    "for option in options:\n",
    "    option_labels[option.index] = option.label\n",
    "    \n",
    "Qtable = np.reshape(smdp_agent.Qtable, (5,5,5,4,-1))\n",
    "vis(tu.encode_env_state(3, 3, tu.GREEN, tu.RED), Qtable, option_labels)"
   ]
  },
  {
   "cell_type": "code",
   "execution_count": null,
   "id": "95c70d28-929b-449c-8e90-0188d993f709",
   "metadata": {},
   "outputs": [],
   "source": []
  },
  {
   "cell_type": "code",
   "execution_count": null,
   "id": "38cc3adb-9a61-4fc5-bd5a-75ef310ea7e2",
   "metadata": {},
   "outputs": [],
   "source": []
  }
 ],
 "metadata": {
  "kernelspec": {
   "display_name": "rl_env",
   "language": "python",
   "name": "rl_env"
  },
  "language_info": {
   "codemirror_mode": {
    "name": "ipython",
    "version": 3
   },
   "file_extension": ".py",
   "mimetype": "text/x-python",
   "name": "python",
   "nbconvert_exporter": "python",
   "pygments_lexer": "ipython3",
   "version": "3.10.12"
  }
 },
 "nbformat": 4,
 "nbformat_minor": 5
}
