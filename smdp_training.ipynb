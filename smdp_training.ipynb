{
 "cells": [
  {
   "cell_type": "code",
   "execution_count": 1,
   "id": "36883db1-74bf-499f-b7fd-acf3507af99a",
   "metadata": {},
   "outputs": [],
   "source": [
    "import gymnasium as gym\n",
    "from gymnasium.wrappers import RecordVideo\n",
    "import matplotlib.pyplot as plt\n",
    "import numpy as np\n",
    "import torch\n",
    "import pickle\n",
    "\n",
    "from scripts.smdp_agent import SMDPQLearningAgent\n",
    "from scripts.intraoption_agent import IntraOptionQLearningAgent\n",
    "from scripts.taxi_utils import TaxiUtils as tu\n",
    "from scripts.options import Option\n",
    "from scripts.policies import MoveTaxiPolicy, EpsilonGreedyPolicy\n",
    "from scripts.training import Trainer, trainingInspector, test_agent, plot_test_results, compute_decay"
   ]
  },
  {
   "cell_type": "markdown",
   "id": "293c22d9-b44a-46ea-8043-a3159e23c4f1",
   "metadata": {},
   "source": [
    "## Hyperparameters"
   ]
  },
  {
   "cell_type": "code",
   "execution_count": 2,
   "id": "a1117de6-1bb6-4056-a286-45426cf61eb4",
   "metadata": {},
   "outputs": [],
   "source": [
    "def episode_trigger(x):\n",
    "    if x % 1000 == 0:\n",
    "        return True\n",
    "    return False\n",
    "\n",
    "def process_hyperparameters(hyperparameters):\n",
    "    hyperparameters.update({\n",
    "        \"eps_decay\": compute_decay(\n",
    "            hyperparameters[\"eps_start\"],\n",
    "            hyperparameters[\"eps_end\"],\n",
    "            hyperparameters[\"frac_episodes_to_decay\"],\n",
    "            hyperparameters[\"num_episodes\"],\n",
    "            hyperparameters[\"decay_type\"]\n",
    "        )\n",
    "    })\n",
    "\n",
    "    hyperparameters.pop(\"frac_episodes_to_decay\", None)\n",
    "    return hyperparameters\n",
    "    "
   ]
  },
  {
   "cell_type": "code",
   "execution_count": 3,
   "id": "99c46212-1416-4935-a24d-8e9877064173",
   "metadata": {},
   "outputs": [],
   "source": [
    "# Top 3 hyperparameter configurations\n",
    "smdp_hyperparameter_list = [\n",
    "\n",
    "    process_hyperparameters(_) for _ in  [\n",
    "    # Best performing hyperparameters\n",
    "    {\n",
    "        \"num_episodes\": 30000,\n",
    "        \"max_return\": 8,\n",
    "        \"LR\": 1e-3,\n",
    "        \"eps_start\": 1,\n",
    "        \"eps_end\": 0.005,\n",
    "        \"decay_type\": \"exponential\",\n",
    "        \"frac_episodes_to_decay\": 0.7\n",
    "    }\n",
    "\n",
    "]]"
   ]
  },
  {
   "cell_type": "markdown",
   "id": "ecf341a7-d0ed-4f47-8307-641a2050d4ce",
   "metadata": {},
   "source": [
    "## Running Experiments"
   ]
  },
  {
   "cell_type": "code",
   "execution_count": 4,
   "id": "e0b93420-f044-43d1-89fc-e08d15c3c45b",
   "metadata": {},
   "outputs": [],
   "source": [
    "def get_termination(source):\n",
    "    # ((taxi_row * 5 + taxi_col) * 5 + passenger_location) * 4 + destination\n",
    "    termination = [0.5 for i in range(500)]\n",
    "    \n",
    "    base = 100*source[0] + 20*source[1]\n",
    "    idx = tu.LOC_TO_COLOR[source]\n",
    "\n",
    "    for i in range(4):\n",
    "        for j in range(5):\n",
    "            if j!=idx:\n",
    "                termination[base + j*4 + i] = 1\n",
    "\n",
    "    return termination\n",
    "    \n",
    "initiation_set = [True for i in range(500)]\n",
    "\n",
    "options = [\n",
    "    Option(index = i, \n",
    "           initiation_set = initiation_set, \n",
    "           policy = MoveTaxiPolicy(tu.COLOR_TO_LOC[i]), \n",
    "           termination = get_termination(tu.COLOR_TO_LOC[i]), \n",
    "           seed=0\n",
    "    )\n",
    "    for i in [tu.RED, tu.GREEN, tu.YELLOW, tu.BLUE]\n",
    "]"
   ]
  },
  {
   "cell_type": "code",
   "execution_count": null,
   "id": "85cb263e-f010-47c9-abc9-114a4516a3c7",
   "metadata": {},
   "outputs": [
    {
     "name": "stderr",
     "output_type": "stream",
     "text": [
      "/home/lalit/my_venvs/rl_env/lib/python3.10/site-packages/gymnasium/wrappers/rendering.py:283: UserWarning: \u001b[33mWARN: Overwriting existing videos at /home/lalit/acads/DA6400/Assignment3/DA6400_RL_PA3/backups/taxi-smdp-visualizations folder (try specifying a different `video_folder` for the `RecordVideo` wrapper if this is not desired)\u001b[0m\n",
      "  logger.warn(\n"
     ]
    },
    {
     "name": "stdout",
     "output_type": "stream",
     "text": [
      "LR 0.001\n",
      "eps_start 1\n",
      "eps_end 0.005\n",
      "decay_type exponential\n",
      "eps_decay 0.9997477309981986\n"
     ]
    },
    {
     "name": "stderr",
     "output_type": "stream",
     "text": [
      "Training:  91%|█████████████████████████████████████████████████████████████████████████████████████████████████████████▎          | 27247/30000 [02:30<00:09, 302.67it/s, Mean Score=-31.6]"
     ]
    }
   ],
   "source": [
    "env = gym.make('Taxi-v3', render_mode=\"rgb_array\")\n",
    "env = RecordVideo(\n",
    "    env,\n",
    "    video_folder=\"backups/taxi-smdp-visualizations\",\n",
    "    name_prefix=\"eval\",\n",
    "    episode_trigger=episode_trigger\n",
    ")\n",
    "\n",
    "smdp_agent = SMDPQLearningAgent(\n",
    "    state_space=env.observation_space,\n",
    "    action_space=env.action_space,\n",
    "    options=options,\n",
    "    seed=0\n",
    ")\n",
    "\n",
    "trainer = Trainer()\n",
    "smdp_results = test_agent(env, smdp_agent, trainer, smdp_hyperparameter_list, num_experiments=1)\n",
    "env.close()\n",
    "\n",
    "# with open(\"backups/acrobot-plots/acrobot_ddqn_type1_results.pickle\", 'wb') as handle:\n",
    "#     pickle.dump(ddqn_type1_results, handle, protocol=pickle.HIGHEST_PROTOCOL)"
   ]
  },
  {
   "cell_type": "code",
   "execution_count": null,
   "id": "1ee535cd-7c14-4bb5-a4ae-497e5187ee55",
   "metadata": {},
   "outputs": [],
   "source": [
    "plot_test_results(smdp_results, [0])"
   ]
  },
  {
   "cell_type": "code",
   "execution_count": null,
   "id": "577d4f73-6e7c-473f-971a-62fe62fb5f41",
   "metadata": {},
   "outputs": [],
   "source": [
    "Qtable = np.reshape(smdp_agent.Qtable, (5,5,5,4,4))\n",
    "np.argmax(Qtable[:,:,4,3,:], axis=-1)"
   ]
  },
  {
   "cell_type": "code",
   "execution_count": null,
   "id": "163b1634-3547-4ec8-99d4-92358b12c4c5",
   "metadata": {},
   "outputs": [],
   "source": []
  }
 ],
 "metadata": {
  "kernelspec": {
   "display_name": "rl_env",
   "language": "python",
   "name": "rl_env"
  },
  "language_info": {
   "codemirror_mode": {
    "name": "ipython",
    "version": 3
   },
   "file_extension": ".py",
   "mimetype": "text/x-python",
   "name": "python",
   "nbconvert_exporter": "python",
   "pygments_lexer": "ipython3",
   "version": "3.10.12"
  }
 },
 "nbformat": 4,
 "nbformat_minor": 5
}
